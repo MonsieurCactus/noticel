{
 "cells": [
  {
   "cell_type": "markdown",
   "metadata": {},
   "source": [
    "# Scraping"
   ]
  },
  {
   "cell_type": "code",
   "execution_count": 1,
   "metadata": {
    "collapsed": true
   },
   "outputs": [],
   "source": [
    "import requests\n",
    "from bs4 import BeautifulSoup"
   ]
  },
  {
   "cell_type": "code",
   "execution_count": 2,
   "metadata": {
    "collapsed": false
   },
   "outputs": [
    {
     "name": "stdout",
     "output_type": "stream",
     "text": [
      "\n",
      "El exjefe de la fiscalía federal en Puerto Rico, Julio Morales Sánchez, explicó la manera en que se configura el fraude con los billetes de Lotería Tradicional tras varias confiscaciones por parte de las autoridades federales.\n",
      " En entrevista con la emisora Notiuno 630, Morales Sánchez, explicó que los billetes de la Lotería Tradicional son usados para lavar dinero obtenido de manera ilegal o que no son reportados al Departamento de Hacienda.\n",
      " Según Morales Sánchez, hay personas que se dedican a comprar billetes premiados como no premiados, para luego venderlos. Generalmente, los no premiados se venden antes del sorteo y los billetes premiados son vendidos a sobreprecio luego del sorteo.\n",
      " Detalló que los denominados \"acaparadores de billetes\" se ponen en contacto con narcotraficantes para ofrecerles los boletos premiados.\n",
      " De otro lado, la misma emisora sostuvo que “entre los meses de marzo y junio pasado, el Tribunal Federal ordenó la confiscación de unos 20,554 pedazos de billetes de la Lotería Tradicional que fueron a parar en manos de agentes del Servicio de Inmigración y Aduanas (ICE), durante intervenciones efectuadas en Fajardo y Peñuelas. Dichos billetes eran transportados por el comercio interestatal e internacional y tenían un valor estimado de $63,499”.  NotiCel ya había reportado que agentes federales confiscaron recientemente $27,952 en billetes premiados y $18 mil traídos ilegalmente al país desde las Islas Vírgenes. Esta es la segunda ocasión en doce meses que se detecta la entrada ilegal de billetes de Lotería Tradicional.\n",
      " En julio de 2014, las autoridades desmantelaron una organización criminal cuyo cabecilla, José Ángel \"Che\" Burgos Rodríguez, fue acusado de lavado de dinero al comprar los boletos ganadores de la Lotería, junto a los también acusados Carlos Gilberto Miranda Ríos y Delfín Robles Álvarez. Se alegó que estos tenían un contacto dentro de la Lotería, quien les vendía el boleto ganador antes de que fuera reclamado a cambio de un 20% de comisión.\n",
      " Meses después trascendió que las autoridades confiscaron $75 mil en billetes premiados traídos desde Santo Domingo. En ese entonces se informó que los billetes fueron comprados por Robinson Bastardo Guzmán, en la isla de Tortola. Luego, Bastardo Guzmán, viajó a la República Dominicana, para pedirle a su hermana que viajara a Puerto Rico para que reclamara el premio.\n",
      " En el 2012, las autoridades intervinieron con una organización criminal que distribuía cocaína y que era liderada por Eduardo Pérez Figueroa y el santero Orlando Robles Ortiz, mejor conocido como “Babalao” o “Papal”. Se indicó que estos consiguieron lavar $1.4 millones mediante la compra de boletos premiados de la Lotería. El pasado marzo, Pérez Figueroa fue sentenciado a 12 años de prisión.\n"
     ]
    }
   ],
   "source": [
    "def article(url):\n",
    "    r = requests.get(url)\n",
    "    soup = BeautifulSoup(r.text)\n",
    "    return '\\n'.join([x.text for x in soup.find_all(\"div\", class_ = \"article-content\")[0].find_all(\"p\")])\n",
    "    \n",
    "url = \"http://www.noticel.com/noticia/180369/federales-arrestan-agente-municipal-de-san-juan-por-trafico-humano.html\"\n",
    "url = \"http://www.noticel.com/noticia/180392/lluvias-aumentan-el-tapon-del-exp-las-americas.html\"\n",
    "url = \"http://www.noticel.com/noticia/180393/exjefe-federal-explica-el-truco-con-los-billetes-de-loteria.html\"\n",
    "A = article(url)\n",
    "print A"
   ]
  },
  {
   "cell_type": "code",
   "execution_count": 3,
   "metadata": {
    "collapsed": true
   },
   "outputs": [],
   "source": [
    "import sys, os\n",
    "sys.path.append( '/home/jdm/Documents/MITIE/mitielib' )\n",
    "from mitie import *\n",
    "from collections import defaultdict\n",
    "\n",
    "ner = named_entity_extractor('/home/jdm/Documents/MITIE/MITIE-models/spanish/ner_model.dat')"
   ]
  },
  {
   "cell_type": "code",
   "execution_count": 4,
   "metadata": {
    "collapsed": false
   },
   "outputs": [
    {
     "name": "stdout",
     "output_type": "stream",
     "text": [
      "   Score: 1.395: LOCATION: Puerto Rico\n",
      "   Score: 1.363: PERSON: Julio Morales Sánchez\n",
      "   Score: 0.488: ORGANIZATION: Lotería Tradicional\n",
      "   Score: 0.354: ORGANIZATION: emisora Notiuno\n",
      "   Score: 0.910: PERSON: Morales Sánchez\n",
      "   Score: 0.800: ORGANIZATION: Lotería Tradicional\n",
      "   Score: 0.993: ORGANIZATION: Departamento de Hacienda\n",
      "   Score: 1.086: PERSON: Morales Sánchez\n",
      "   Score: 1.281: ORGANIZATION: Tribunal Federal\n",
      "   Score: 0.592: MISC: Lotería Tradicional\n",
      "   Score: 0.658: ORGANIZATION: Servicio de Inmigración\n",
      "   Score: 0.488: ORGANIZATION: Aduanas\n",
      "   Score: 1.158: ORGANIZATION: ICE\n",
      "   Score: 0.844: LOCATION: Fajardo\n",
      "   Score: 0.110: PERSON: Peñuelas\n",
      "   Score: 0.373: PERSON: NotiCel\n",
      "   Score: 0.495: LOCATION: Islas Vírgenes\n",
      "   Score: 0.486: MISC: Lotería Tradicional\n",
      "   Score: 1.167: PERSON: José Ángel \" Che \" Burgos Rodríguez\n",
      "   Score: 0.531: ORGANIZATION: Lotería\n",
      "   Score: 1.179: PERSON: Carlos Gilberto Miranda Ríos\n",
      "   Score: 0.885: PERSON: Delfín Robles Álvarez\n",
      "   Score: 0.716: ORGANIZATION: Lotería\n",
      "   Score: 1.471: LOCATION: Santo Domingo\n",
      "   Score: 0.790: PERSON: Robinson Bastardo Guzmán\n",
      "   Score: 0.763: LOCATION: Tortola\n",
      "   Score: 0.825: PERSON: Bastardo Guzmán\n",
      "   Score: 0.325: ORGANIZATION: República Dominicana\n",
      "   Score: 1.065: LOCATION: Puerto Rico\n",
      "   Score: 1.122: PERSON: Eduardo Pérez Figueroa\n",
      "   Score: 0.949: PERSON: Orlando Robles Ortiz\n",
      "   Score: 0.162: ORGANIZATION: “Babalao”\n",
      "   Score: 0.773: ORGANIZATION: Lotería\n",
      "   Score: 1.268: PERSON: Pérez Figueroa\n"
     ]
    }
   ],
   "source": [
    "tokens = tokenize(A.encode(\"utf-8\"))\n",
    "entities = ner.extract_entities(tokens)\n",
    "\n",
    "for e in entities:\n",
    "    range = e[0]\n",
    "    tag = e[1]\n",
    "    score = e[2]\n",
    "    score_text = \"{:0.3f}\".format(score)\n",
    "    entity_text = \" \".join(tokens[i] for i in range)\n",
    "    print \"   Score: \" + score_text + \": \" + tag + \": \" + entity_text"
   ]
  },
  {
   "cell_type": "code",
   "execution_count": null,
   "metadata": {
    "collapsed": true
   },
   "outputs": [],
   "source": []
  }
 ],
 "metadata": {
  "kernelspec": {
   "display_name": "Python 2",
   "language": "python",
   "name": "python2"
  },
  "language_info": {
   "codemirror_mode": {
    "name": "ipython",
    "version": 2
   },
   "file_extension": ".py",
   "mimetype": "text/x-python",
   "name": "python",
   "nbconvert_exporter": "python",
   "pygments_lexer": "ipython2",
   "version": "2.7.6"
  }
 },
 "nbformat": 4,
 "nbformat_minor": 0
}
