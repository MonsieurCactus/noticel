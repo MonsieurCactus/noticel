{
 "cells": [
  {
   "cell_type": "code",
   "execution_count": 1,
   "metadata": {
    "collapsed": true
   },
   "outputs": [],
   "source": [
    "# https://github.com/mit-nlp/MITIE/blob/master/examples/python/ner.py"
   ]
  },
  {
   "cell_type": "code",
   "execution_count": 8,
   "metadata": {
    "collapsed": false
   },
   "outputs": [],
   "source": [
    "import sys, os\n",
    "sys.path.append( '/home/jdm/Documents/MITIE/mitielib' )"
   ]
  },
  {
   "cell_type": "code",
   "execution_count": 9,
   "metadata": {
    "collapsed": false
   },
   "outputs": [],
   "source": [
    "from mitie import *\n",
    "from collections import defaultdict"
   ]
  },
  {
   "cell_type": "markdown",
   "metadata": {},
   "source": [
    "# English"
   ]
  },
  {
   "cell_type": "code",
   "execution_count": 10,
   "metadata": {
    "collapsed": false
   },
   "outputs": [
    {
     "name": "stdout",
     "output_type": "stream",
     "text": [
      "loading NER model...\n",
      "\n",
      "Tags output by this NER model: ['PERSON', 'LOCATION', 'ORGANIZATION', 'MISC']\n"
     ]
    }
   ],
   "source": [
    "print \"loading NER model...\"\n",
    "ner = named_entity_extractor('/home/jdm/Documents/MITIE/MITIE-models/english/ner_model.dat')\n",
    "print \"\\nTags output by this NER model:\", ner.get_possible_ner_tags()"
   ]
  },
  {
   "cell_type": "code",
   "execution_count": 11,
   "metadata": {
    "collapsed": false
   },
   "outputs": [
    {
     "name": "stdout",
     "output_type": "stream",
     "text": [
      "Tokenized input: ['A', 'new', 'Des', 'Moines', 'Register/Bloomberg', 'Politics', 'Iowa', 'Poll', 'shows', 'Sen', '.', 'Bernie', 'Sanders', '(', 'I-Vt', ')', 'only', '7', 'points', 'behind', 'Hillary', 'Clinton', 'in', 'the', 'race', 'for', 'the', 'Iowa', 'caucus', ',', 'a', 'worrying', 'sign', 'for', 'the', 'Democratic', 'frontrunner', '.', 'Clinton', 'leads', 'with', '37', 'percent', 'of', 'likely', 'Democratic', 'caucusgoers', ',', 'with', 'Sanders', 'following', 'at', '30', 'percent', '.', 'As', 'Clinton', \"'s\", 'campaign', 'struggles', 'to', 'counter', 'negative', 'press', 'from', 'her', 'ongoing', 'email', 'controversy', ',', 'Sanders', 'has', 'energized', 'liberal', 'Democrats', 'with', 'impassioned', 'talk', 'of', 'political', 'revolution', '.', 'According', 'to', 'the', 'poll', ',', '96', 'percent', 'of', 'Sanders', 'supporters', 'said', 'they', 'support', 'him', 'for', 'his', 'ideas', ',', 'while', 'two', 'percent', 'said', 'their', 'support', 'lies', 'mostly', 'in', 'the', 'fact', 'that', 'they', 'do', 'not', 'support', 'Clinton', '.', 'The', 'poll', 'also', 'includes', 'Vice', 'President', 'Joe', 'Biden', ',', 'who', 'captured', '14', 'percent', '.', 'He', 'has', 'yet', 'to', 'announce', 'a', 'presidential', 'bid', '.', 'Clinton', 'has', 'lost', 'a', 'third', 'of', 'her', 'support', 'since', 'May', ',', 'the', 'poll', 'found', '.', 'This', 'is', 'also', 'the', 'first', 'time', 'Clinton', 'has', 'fallen', 'below', 'the', '50', 'percent', 'mark', 'in', 'a', 'Des', 'Moines', 'Register/Bloomberg', 'Politics', 'Iowa', 'Poll', 'this', 'year', '.', '\"', 'It', 'looks', 'like', 'what', 'people', 'call', 'the', 'era', 'of', 'inevitability', 'is', 'over', ',', '\"', 'said', 'J.', 'Ann', 'Selzer', ',', 'president', 'of', 'Selzer', '&', 'Co', ',', 'which', 'conducted', 'the', 'poll', '.', 'While', 'the', 'poll', 'results', 'show', 'a', 'notable', 'departure', 'from', 'Clinton', \"'s\", 'presumptive', 'lead', ',', 'they', 'don', \"'t\", 'necessarily', 'predict', 'what', \"'s\", 'to', 'come', '.', 'In', 'June', '2011,', 'former', 'Rep', '.', 'Michele', 'Bachmann', 'was', 'polling', 'just', 'one', 'point', 'behind', 'eventual', 'Republican', 'nominee', 'Mitt', 'Romney', 'in', 'Iowa', '.', 'Bachmann', 'finished', 'in', 'sixth', 'place', ',', 'with', 'a', 'dismal', '5', 'percent', 'of', 'the', 'vote', 'at', 'the', 'caucuses', '.', 'The', 'poll', ',', 'conducted', 'August', '23-26,', 'is', 'based', 'on', 'telephone', 'interviews', 'with', '404', 'likely', 'Democratic', 'caucusgoers', '.', 'The', 'findings', 'have', 'a', 'margin', 'of', 'error', 'of', '4.9', 'percentage', 'points', '.', 'Sanders', 'is', 'currently', 'polling', 'at', 'a', 'hair', 'under', '30', 'percent', 'in', 'the', 'HuffPost', 'Pollster', 'chart', ',', 'which', 'aggregates', 'all', 'publicly', 'available', 'polls', '.']\n"
     ]
    }
   ],
   "source": [
    "tokens = tokenize(load_entire_file('huffpost.txt'))\n",
    "print \"Tokenized input:\", tokens"
   ]
  },
  {
   "cell_type": "code",
   "execution_count": 12,
   "metadata": {
    "collapsed": false
   },
   "outputs": [
    {
     "name": "stdout",
     "output_type": "stream",
     "text": [
      "\n",
      "Entities found: [(xrange(2, 4), 'LOCATION', 0.5787063827826189), (xrange(11, 13), 'PERSON', 1.609791817768582), (xrange(14, 15), 'ORGANIZATION', 0.15308382940440127), (xrange(20, 22), 'PERSON', 1.1606512033927832), (xrange(27, 28), 'LOCATION', 1.0285458269016259), (xrange(35, 36), 'MISC', 1.1192519125942966), (xrange(38, 39), 'PERSON', 1.2148000906666838), (xrange(45, 46), 'MISC', 1.08173265323975), (xrange(49, 50), 'PERSON', 0.910786082179623), (xrange(56, 57), 'PERSON', 1.2816359618203856), (xrange(70, 71), 'PERSON', 1.1703734164855595), (xrange(74, 75), 'MISC', 0.6758088724975834), (xrange(90, 91), 'PERSON', 0.7118674448509008), (xrange(116, 117), 'PERSON', 1.3339312926160005), (xrange(124, 126), 'PERSON', 1.7778538116900533), (xrange(141, 142), 'PERSON', 1.210804973119619), (xrange(162, 163), 'PERSON', 1.2617324590991177), (xrange(172, 174), 'LOCATION', 0.6882076067551202), (xrange(175, 178), 'ORGANIZATION', 0.3769465400595685), (xrange(197, 200), 'PERSON', 1.2276059683956866), (xrange(203, 206), 'ORGANIZATION', 0.9014509535621801), (xrange(221, 222), 'PERSON', 1.2226016774343016), (xrange(242, 244), 'PERSON', 1.22607352164607), (xrange(251, 252), 'MISC', 0.9552031832986009), (xrange(253, 255), 'PERSON', 1.0736829852811407), (xrange(256, 257), 'LOCATION', 1.5060572911640595), (xrange(258, 259), 'PERSON', 0.688419449788896), (xrange(290, 291), 'MISC', 0.8109629436027045), (xrange(305, 306), 'PERSON', 0.8724433996144376), (xrange(317, 318), 'ORGANIZATION', 0.3428919778001481)]\n",
      "\n",
      "Number of entities detected: 30\n"
     ]
    }
   ],
   "source": [
    "entities = ner.extract_entities(tokens)\n",
    "print \"\\nEntities found:\", entities\n",
    "print \"\\nNumber of entities detected:\", len(entities)"
   ]
  },
  {
   "cell_type": "code",
   "execution_count": 13,
   "metadata": {
    "collapsed": false
   },
   "outputs": [
    {
     "name": "stdout",
     "output_type": "stream",
     "text": [
      "   Score: 0.579: LOCATION: Des Moines\n",
      "   Score: 1.610: PERSON: Bernie Sanders\n",
      "   Score: 0.153: ORGANIZATION: I-Vt\n",
      "   Score: 1.161: PERSON: Hillary Clinton\n",
      "   Score: 1.029: LOCATION: Iowa\n",
      "   Score: 1.119: MISC: Democratic\n",
      "   Score: 1.215: PERSON: Clinton\n",
      "   Score: 1.082: MISC: Democratic\n",
      "   Score: 0.911: PERSON: Sanders\n",
      "   Score: 1.282: PERSON: Clinton\n",
      "   Score: 1.170: PERSON: Sanders\n",
      "   Score: 0.676: MISC: Democrats\n",
      "   Score: 0.712: PERSON: Sanders\n",
      "   Score: 1.334: PERSON: Clinton\n",
      "   Score: 1.778: PERSON: Joe Biden\n",
      "   Score: 1.211: PERSON: Clinton\n",
      "   Score: 1.262: PERSON: Clinton\n",
      "   Score: 0.688: LOCATION: Des Moines\n",
      "   Score: 0.377: ORGANIZATION: Politics Iowa Poll\n",
      "   Score: 1.228: PERSON: J. Ann Selzer\n",
      "   Score: 0.901: ORGANIZATION: Selzer & Co\n",
      "   Score: 1.223: PERSON: Clinton\n",
      "   Score: 1.226: PERSON: Michele Bachmann\n",
      "   Score: 0.955: MISC: Republican\n",
      "   Score: 1.074: PERSON: Mitt Romney\n",
      "   Score: 1.506: LOCATION: Iowa\n",
      "   Score: 0.688: PERSON: Bachmann\n",
      "   Score: 0.811: MISC: Democratic\n",
      "   Score: 0.872: PERSON: Sanders\n",
      "   Score: 0.343: ORGANIZATION: HuffPost\n"
     ]
    }
   ],
   "source": [
    "# entities is a list of tuples, each containing an xrange that indicates which\n",
    "# tokens are part of the entity, the entity tag, and an associate score.  The\n",
    "# entities are also listed in the order they appear in the input text file.\n",
    "# Here we just print the score, tag, and text for each entity to the screen.\n",
    "# The larger the score the more confident MITIE is in its prediction.\n",
    "for e in entities:\n",
    "    range = e[0]\n",
    "    tag = e[1]\n",
    "    score = e[2]\n",
    "    score_text = \"{:0.3f}\".format(score)\n",
    "    entity_text = \" \".join(tokens[i] for i in range)\n",
    "    print \"   Score: \" + score_text + \": \" + tag + \": \" + entity_text"
   ]
  },
  {
   "cell_type": "code",
   "execution_count": 14,
   "metadata": {
    "collapsed": true
   },
   "outputs": [],
   "source": [
    "# Now let's run one of MITIE's binary relation detectors.  MITIE comes with a\n",
    "# bunch of different types of relation detector and includes tools allowing you\n",
    "# to train new detectors.  However, here we simply use one, the \"person born in\n",
    "# place\" relation detector.\n",
    "rel_detector = binary_relation_detector(\"/home/jdm/Documents/MITIE/MITIE-models/english/binary_relations/rel_classifier_people.person.place_of_birth.svm\")\n"
   ]
  },
  {
   "cell_type": "code",
   "execution_count": 15,
   "metadata": {
    "collapsed": true
   },
   "outputs": [],
   "source": [
    "# First, let's make a list of neighboring entities.  Once we have this list we\n",
    "# will ask the relation detector if any of these entity pairs is an example of\n",
    "# the \"person born in place\" relation. \n",
    "neighboring_entities = [(entities[i][0], entities[i+1][0]) for i in xrange(len(entities)-1)]\n",
    "# Also swap the entities and add those in as well.  We do this because \"person\n",
    "# born in place\" mentions can appear in the text in as \"place is birthplace of\n",
    "# person\".  So we must consider both possible orderings of the arguments.\n",
    "neighboring_entities += [(r,l) for (l,r) in neighboring_entities]"
   ]
  },
  {
   "cell_type": "code",
   "execution_count": 16,
   "metadata": {
    "collapsed": true
   },
   "outputs": [],
   "source": [
    "# Now that we have our list, let's check each entity pair and see which one the\n",
    "# detector selects.\n",
    "for person, place in neighboring_entities:\n",
    "    # Detection has two steps in MITIE. First, you convert a pair of entities\n",
    "    # into a special representation.\n",
    "    rel = ner.extract_binary_relation(tokens, person, place)\n",
    "    # Then you ask the detector to classify that pair of entities.  If the\n",
    "    # score value is > 0 then it is saying that it has found a relation.  The\n",
    "    # larger the score the more confident it is.  Finally, the reason we do\n",
    "    # detection in two parts is so you can reuse the intermediate rel in many\n",
    "    # calls to different relation detectors without needing to redo the\n",
    "    # processing done in extract_binary_relation().\n",
    "    score = rel_detector(rel)\n",
    "    # Print out any matching relations.\n",
    "    if (score > 0):\n",
    "        person_text     = \" \".join(tokens[i] for i in person)\n",
    "        birthplace_text = \" \".join(tokens[i] for i in place)\n",
    "        print person_text, \"BORN_IN\", birthplace_text"
   ]
  },
  {
   "cell_type": "code",
   "execution_count": 17,
   "metadata": {
    "collapsed": false
   },
   "outputs": [
    {
     "name": "stdout",
     "output_type": "stream",
     "text": [
      "\n",
      "Top most common relations:\n"
     ]
    }
   ],
   "source": [
    "# The code above shows the basic details of MITIE's relation detection API.\n",
    "# However, it is important to note that real world data is noisy any confusing.\n",
    "# Not all detected relations will be correct.  Therefore, it's important to\n",
    "# aggregate many relation detections together to get the best signal out of\n",
    "# your data.  A good way to do this is to pick an entity you are in interested\n",
    "# in (e.g. Benjamin Franklin) and then find all the relations that mention him\n",
    "# and order them by most frequent to least frequent.  We show how to do this in\n",
    "# the code below.\n",
    "query = \"Clinton\"\n",
    "hits = defaultdict(int)\n",
    "\n",
    "for person, place in neighboring_entities:\n",
    "    rel = ner.extract_binary_relation(tokens, person, place)\n",
    "    score = rel_detector(rel)\n",
    "    if (score > 0):\n",
    "        person_text     = \" \".join(tokens[i] for i in person)\n",
    "        birthplace_text = \" \".join(tokens[i] for i in place)\n",
    "        if (person_text == query):\n",
    "            hits[birthplace_text] += 1\n",
    "\n",
    "print \"\\nTop most common relations:\"\n",
    "for place, count in sorted(hits.iteritems(), key=lambda x:x[1], reverse=True):\n",
    "    print count, \"relations claiming\", query, \"was born in\", place"
   ]
  },
  {
   "cell_type": "markdown",
   "metadata": {},
   "source": [
    "# Spanish"
   ]
  },
  {
   "cell_type": "code",
   "execution_count": 20,
   "metadata": {
    "collapsed": false
   },
   "outputs": [
    {
     "name": "stdout",
     "output_type": "stream",
     "text": [
      "loading NER model...\n",
      "\n",
      "Tags output by this NER model: ['LOCATION', 'ORGANIZATION', 'PERSON', 'MISC']\n"
     ]
    }
   ],
   "source": [
    "print \"loading NER model...\"\n",
    "ner = named_entity_extractor('/home/jdm/Documents/MITIE/MITIE-models/spanish/ner_model.dat')\n",
    "print \"\\nTags output by this NER model:\", ner.get_possible_ner_tags()"
   ]
  },
  {
   "cell_type": "code",
   "execution_count": 21,
   "metadata": {
    "collapsed": false
   },
   "outputs": [
    {
     "name": "stdout",
     "output_type": "stream",
     "text": [
      "Tokenized input: ['El', 'Departamento', 'de', 'Salud', 'se', 'debe', 'limitar', 'a', 'regular', ',', 'no', 'monopolizar', ',', 'el', 'cultivo', 'y', 'distribuci\\xc3\\xb3n', 'de', 'marihuana', 'medicinal', 'mediante', 'la', 'emisi\\xc3\\xb3n', 'de', 'licencias', 'a', 'entidades', 'privadas', '.', 'Esa', 'fue', 'la', 'primera', 'recomendaci\\xc3\\xb3n', 'hecha', 'por', 'Chloe', 'Villano', 'durante', 'las', 'vistas', 'p\\xc3\\xbablicas', 'organizadas', 'por', 'el', 'Departamento', 'de', 'Salud', 'para', 'discutir', 'la', 'creaci\\xc3\\xb3n', 'de', 'un', 'c\\xc3\\xb3digo', 'que', 'regule', 'toda', 'la', 'industria', 'naciente', 'de', 'la', 'marihuana', 'medicinal', 'desde', 'su', 'cultivo', 'hasta', 'su', 'consumo', '.', 'Chloe', 'Villano', 'es', 'la', 'due\\xc3\\xb1a', 'y', 'fundadora', 'de', 'Clover', 'Leaf', 'Consulting', ',', 'una', 'empresa', 'que', 'a', 'trav\\xc3\\xa9s', 'de', 'los', 'a\\xc3\\xb1os', 'se', 'ha', 'convertido', 'en', 'una', 'de', 'las', 'm\\xc3\\xa1s', 'importantes', 'empresas', 'de', 'consultor\\xc3\\xada', 'para', 'la', 'industria', 'del', 'cannabis', '.', 'Villano', ',', 'que', 'en', 'su', 'momento', 'ejerci\\xc3\\xb3', 'como', 'asistente', 'legal', 'y', 'trabaj\\xc3\\xb3', 'numerosos', 'casos', 'sobre', 'el', 'tema', ',', 'tambi\\xc3\\xa9n', 'cuenta', 'con', '15', 'a\\xc3\\xb1os', 'de', 'experiencia', 'en', 'consultor\\xc3\\xada', 'para', 'el', '\\xc3\\xa9xito', 'de', 'nuevas', 'empresas', '.', '\"', 'Luego', 'de', 'trabajar', 'con', 'cientos', 'de', 'dispensarios', ',', 'centros', 'de', 'marihuana', 'medicinal', ',', 'instalaciones', 'de', 'cultivo', 'masivo', 'y', 'marcas', 'de', 'cannabis', ',', 'se', 'le', 'reconoce', 'por', 'usar', 'su', 'experiencia', 'para', 'influir', 'en', 'un', 'crecimiento', 'de', 'la', 'industria', 'seguro', ',', 'bien', 'administrado', 'y', 'beneficioso', 'para', 'todos', '\"', ',', 'lee', 'su', 'p\\xc3\\xa1gina', 'web', '.', 'Villano', 'ha', 'seguido', 'de', 'cerca', 'el', 'caso', 'de', 'Puerto', 'Rico', ',', 'coment\\xc3\\xb3', 'a', 'NotiCel', '.', 'El', 'hecho', 'de', 'que', 'Puerto', 'Rico', 'se', 'haya', 'convertido', 'en', 'el', 'primer', 'territorio', 'bajo', 'la', 'jurisdicci\\xc3\\xb3n', 'de', 'Estados', 'Unidos', 'en', 'tomar', 'una', 'acci\\xc3\\xb3n', 'ejecutiva', 'para', 'legalizar', 'la', 'marihuana', 'medicinal', ',', 'es', 'un', 'evento', 'hist\\xc3\\xb3rico', 'que', 'Villano', 'ha', 'mirado', 'con', 'detenimiento', ',', 'dijo', '.', 'Adem\\xc3\\xa1s', ',', 'que', 'ocurra', 'en', 'el', 'Caribe', 'es', '\"', 'perfecto', '\"', ',', 'asegur\\xc3\\xb3', '.', 'La', 'empresaria', 'comenz\\xc3\\xb3', 'su', 'alocuci\\xc3\\xb3n', 'con', 'datos', 'que', 'reflejan', 'el', '\\xc3\\xa9xito', 'de', 'la', 'industria', 'en', 'Colorado', '.', 'El', 'turismo', 'creci\\xc3\\xb3', 'en', 'billones', 'de', 'd\\xc3\\xb3lares', 'el', 'a\\xc3\\xb1o', 'pasado', ',', 'los', 'impuestos', 'recolectados', 'por', 'el', 'Gobierno', 'subieron', 'en', '70', 'millones', 'de', 'd\\xc3\\xb3lares', ',', 'el', 'crimen', 'disminuy\\xc3\\xb3', 'dram\\xc3\\xa1ticamente', ',', 'los', 'homicidios', 'se', 'redujeron', 'en', 'un', '53%', 'y', '10', 'mil', 'personas', 'encontraron', 'empleo', 'en', 'la', 'industria', 'de', 'la', 'marihuana', '.', 'Entre', 'las', 'recomendaciones', 'que', 'emiti\\xc3\\xb3', 'el', 'pasado', 'jueves', ',', 'a', 'las', '9', 'de', 'la', 'ma\\xc3\\xb1ana', ',', 'en', 'una', 'sala', 'del', 'Departamento', 'de', 'Salud', ',', 'insisti\\xc3\\xb3', 'en', 'que', 'el', 'Departamento', 'de', 'Salud', 'debe', 'mantenerse', 'al', 'margen', 'del', 'control', 'total', 'de', 'la', 'industria', 'ya', 'que', ',', 'por', 'un', 'lado', ',', 'dijo', ',', 'es', 'una', 'acci\\xc3\\xb3n', 'ilegal', 'bajo', 'la', 'ley', 'Sherman', ',', 'y', 'por', 'otro', ',', 'representa', 'el', '\"', 'peor', 'modelo', '\"', 'a', 'seguir', 'para', 'cumplir', 'con', 'las', 'disposiciones', 'federales', 'de', 'la', 'Ley', 'de', 'Sustancias', 'Controladas', '.', 'Adem\\xc3\\xa1s', ',', 'se\\xc3\\xb1al\\xc3\\xb3', 'que', 'debido', 'a', 'que', 'el', 'Gobierno', 'solo', 'firma', 'contratos', 'de', 'seis', 'meses', 'a', 'un', 'a\\xc3\\xb1o', 'para', 'no', 'comprometer', 'el', 'presupuesto', 'futuro', ',', 'crea', 'una', 'inestabilidad', 'en', 'el', 'sistema', ',', 'con', 'un', 'mecanismo', 'que', 'adem\\xc3\\xa1s', 'abre', 'la', 'puerta', 'para', 'finalizar', 'contratos', 'de', 'forma', 'arbitraria', 'debido', 'al', 'cambio', 'de', 'administraci\\xc3\\xb3n', ',', 'fen\\xc3\\xb3meno', 'que', 'a', 'Puerto', 'Rico', 'le', 'toca', 'muy', 'de', 'cerca', '.', 'No', 'obstante', ',', 'coincidi\\xc3\\xb3', 'con', 'otras', 'empresas', 'presentes', 'en', 'la', 'sesi\\xc3\\xb3n', ',', 'en', 'la', 'necesidad', 'de', 'mayores', 'regulaciones', '.', 'En', 'la', 'distribuci\\xc3\\xb3n', 'y', 'transportaci\\xc3\\xb3n', 'de', 'la', 'marihuana', ',', 'dada', 'su', 'condici\\xc3\\xb3n', 'actual', 'de', 'sustancia', 'ilegal', 'para', 'uso', 'recreativo', '-', 'y', 'siendo', 'una', 'de', 'las', 'primeras', 'fuentes', 'de', 'ingreso', 'del', 'narcotr\\xc3\\xa1fico', '-', ',', 'Villano', 'exhort\\xc3\\xb3', 'a', 'que', 'se', 'exija', 'a', 'los', 'distribuidores', 'completar', 'reportes', 'de', 'inventario', ',', 'pago', 'por', 'licencias', ',', 'documentos', 'oficiales', 'para', 'operar', ',', 'entre', 'otras', 'medidas', 'para', 'garantizar', 'que', 'el', 'veh\\xc3\\xadculo', 'no', 'sea', 'usado', 'para', 'prop\\xc3\\xb3tisos', 'ilegales', ',', 'as\\xc3\\xad', 'como', 'para', 'proteger', 'la', 'seguridad', 'del', 'distribuidor', '.', 'El', 'sistema', 'de', 'la', 'semilla', 'a', 'la', 'venta', ',', 'o', 'la', 'cadena', '\"', 'seed-to-sale', '\"', ',', 'tampoco', 'est\\xc3\\xa1', 'debidamente', 'regulada', 'en', 'el', 'borrador', 'de', 'Reglamento', ',', 'de', 'acuerdo', 'a', 'la', 'empresaria', '.', 'Este', 'sistema', 'permite', 'monitorear', 'cada', 'planta', 'desde', 'el', 'cultivo', 'hasta', 'la', 'etapa', 'final', 'para', 'reducir', 'el', 'riesgo', 'de', 'desv\\xc3\\xado', 'al', 'mercado', 'negro', '.', 'A', 'su', 'vez', ',', 'para', 'velar', 'por', 'la', 'calidad', 'del', 'producto', ',', 'Villano', 'recomend\\xc3\\xb3', 'que', 'se', 'estableciera', 'un', 'sistema', 'de', 'prueba', 'por', 'terceros', ',', 'o', '\"', 'third-party', 'testing', '\"', ',', 'con', 'el', 'fin', 'de', 'que', 'una', 'entidad', 'independiente', 'debidamente', 'certificada', 'identifique', 'los', 'qu\\xc3\\xadmicos', 'contenidos', 'en', 'el', 'perfil', 'del', 'producto', '.', 'Combinado', 'con', 'la', 'cadena', '\"', 'seed-to-sale', '\"', ',', 'el', 'resultado', 'es', 'una', 'mejor', 'calidad', ',', 'dosis', 'controlada', 'y', 'una', 'medicina', 'adecuada', 'para', 'el', 'consumo', 'del', 'paciente', ',', 'concluy\\xc3\\xb3', '.', 'Otro', 'de', 'los', 'se\\xc3\\xb1alamientos', 'que', 'subray\\xc3\\xb3', 'Villano', ',', 'fue', 'la', 'definici\\xc3\\xb3n', 'de', 'paciente', ',', 'que', 'actualmente', 'se', 'limita', 'a', 'una', 'persona', 'que', 'resida', 'en', 'Puerto', 'Rico', 'y', 'que', 'haya', 'sido', 'diagnotiscada', 'por', 'un', 'profesional', 'autorizado', 'con', 'una', 'condici\\xc3\\xb3n', 'debilitante', 'que', 'le', 'permita', 'obtener', 'una', 'certificaci\\xc3\\xb3n', 'para', 'el', 'uso', 'de', 'marihuana', 'medicinal', '.', '\"', 'El', 'paciente', 'es', 'el', 'aspecto', 'm\\xc3\\xa1s', 'olvidado', 'de', 'todo', 'el', 'proceso', 'regulador', 'y', 'deber\\xc3\\xada', 'ir', 'primero', 'en', 'la', 'consideraci\\xc3\\xb3n', 'de', 'cualquier', 'aspecto', 'de', 'leyes', 'y', 'regulaciones', '\"', ',', 'dijo', 'Villano', '.', 'Propuso', 'que', ',', 'a', 'la', 'vez', 'que', 'le', 'da', 'alternativas', 'a', 'los', 'pacientes', 'del', 'mundo', ',', 'Puerto', 'Rico', 'explote', 'al', 'm\\xc3\\xa1ximo', 'su', 'potencial', 'para', 'el', 'turismo', 'm\\xc3\\xa9dico', 'a', 'escala', 'global', '.', 'Tomando', 'en', 'cosideraci\\xc3\\xb3n', 'el', 'd\\xc3\\xa9bil', 'estado', 'de', 'la', 'econom\\xc3\\xada', 'y', 'la', 'vasta', 'cantidad', 'de', 'profesionales', 'de', 'la', 'salud', 'que', 'abandonan', 'Puerto', 'Rico', 'en', 'busca', 'de', 'mejores', 'oportunidades', 'laborales', ',', 'la', 'industria', 'de', 'la', 'marihuana', 'medicinal', ',', 'si', 'se', 'abre', 'al', 'mundo', ',', 'podr\\xc3\\xada', 'ser', 'altamente', 'beneficiosa', 'para', 'la', 'mejor\\xc3\\xada', 'econ\\xc3\\xb3mica', 'del', 'pa\\xc3\\xads', '.', 'Adem\\xc3\\xa1s', ',', 'recomend\\xc3\\xb3', 'que', 'los', 'pacientes', 'tambi\\xc3\\xa9n', 'pudieran', 'ingerir', 'el', 'producto', 'fuera', 'de', 'la', 'privacidad', 'de', 'sus', 'casas', ',', 'una', 'vez', 'se', 'acepte', 'su', 'uso', 'medicinal', '.', 'Sin', 'embargo', ',', 'a', 'la', 'vez', ',', 'sugiri\\xc3\\xb3', 'que', 'se', 'limitara', 'la', 'cantidad', 'de', 'marihuana', 'que', 'puede', 'poseer', 'una', 'persona', 'a', 'diez', 'onzas', 'para', 'evitar', 'la', 'entrada', 'del', 'mercado', 'negro', 'a', 'la', 'acci\\xc3\\xb3n', '.', 'Otra', 'de', 'sus', 'recomendaciones', 'es', 'la', 'inclusi\\xc3\\xb3n', 'de', 'sustancias', 'como', 'el', 'cannabidiol', '(', 'CBD', ')', 'y', 'cannabiniol', '(', 'CBN', ')', ',', 'dos', 'sustancias', 'que', 'han', 'demostrado', 'ser', 'muy', 'efectivos', 'por', 'sus', 'valores', 'terap\\xc3\\xa9uticos', 'en', 'el', 'caso', 'del', 'CBD', ',', 'y', 'por', 'sus', 'cualidades', 'como', 'sedante', 'y', 'antiinsomnio', ',', 'en', 'el', 'caso', 'del', 'CBN', '.', 'La', 'experta', 'en', 'el', 'campo', ',', 'que', 'adem\\xc3\\xa1s', 'es', 'la', 'fundadora', 'de', 'Clover', 'Leaf', 'University', ',', 'la', '\\xc3\\xbanica', 'universidad', 'debidamente', 'acreditada', 'que', 'emite', 'certificados', 'orientados', 'a', 'la', 'industria', 'del', 'cannabis', ',', 'enfatiz\\xc3\\xb3', 'que', 'cualquier', 'referencia', 'a', 'cannabinoids', 'debe', 'referirse', 'al', 'cannabis', 'sint\\xc3\\xa9tico', ',', 'tambi\\xc3\\xa9n', 'conocido', 'como', '\"', 'spice', '\"', ',', 'el', 'cual', 'carece', 'de', 'propiedades', 'medicinales', ',', 'ya', 'que', 'solo', 'reproduce', 'una', 'experiencia', 'psicoactiva', 'similar', 'a', 'la', 'marihuana', '.', 'Tambi\\xc3\\xa9n', 'incluy\\xc3\\xb3', 'en', 'sus', 'sugerencias', 'limitar', 'la', 'publicidad', 'y', 'estrategias', 'de', 'mercadeo', 'para', 'velar', 'por', 'la', 'seguridad', 'de', 'los', 'empleados', 'de', 'la', 'industria', ',', 'que', 'se', 'puedan', 'utilizar', 'ratas', 'de', 'laboratorio', 'para', 'prop\\xc3\\xb3sito', 'investigativo', ',', 'que', 'se', 'proh\\xc3\\xadban', 'los', 'productos', 'derivados', 'del', 'cannabis', 'que', 'contengan', 'pesticidas', ',', 'entre', 'otros', '.']\n"
     ]
    }
   ],
   "source": [
    "tokens = tokenize(load_entire_file('noticel.txt'))\n",
    "print \"Tokenized input:\", tokens"
   ]
  },
  {
   "cell_type": "code",
   "execution_count": 22,
   "metadata": {
    "collapsed": false
   },
   "outputs": [
    {
     "name": "stdout",
     "output_type": "stream",
     "text": [
      "\n",
      "Entities found: [(xrange(1, 4), 'ORGANIZATION', 1.3366524210836725), (xrange(36, 38), 'PERSON', 0.9492931680584611), (xrange(41, 42), 'MISC', 0.504739755962439), (xrange(45, 48), 'ORGANIZATION', 1.0834818272251523), (xrange(72, 74), 'PERSON', 0.8660110833516398), (xrange(80, 83), 'PERSON', 0.31842279160268355), (xrange(110, 111), 'PERSON', 0.5562643447516701), (xrange(197, 198), 'PERSON', 0.4586737874118581), (xrange(205, 207), 'LOCATION', 0.8586481099601169), (xrange(210, 211), 'LOCATION', 0.26606527191122015), (xrange(216, 218), 'LOCATION', 0.4503685200972449), (xrange(219, 220), 'ORGANIZATION', 0.18259764846324697), (xrange(229, 231), 'ORGANIZATION', 0.9769760156225974), (xrange(247, 248), 'PERSON', 0.6024071840913054), (xrange(261, 262), 'LOCATION', 0.5749381328214171), (xrange(284, 285), 'LOCATION', 1.0152696067231652), (xrange(302, 303), 'ORGANIZATION', 1.5331246010075268), (xrange(355, 358), 'ORGANIZATION', 1.111589922362682), (xrange(363, 366), 'ORGANIZATION', 1.2640226972371427), (xrange(392, 393), 'PERSON', 0.6888086976402185), (xrange(414, 418), 'MISC', 1.0868021659783564), (xrange(418, 420), 'LOCATION', 0.3334814505135114), (xrange(427, 428), 'ORGANIZATION', 1.526734172084285), (xrange(474, 476), 'LOCATION', 0.6118157057684772), (xrange(534, 536), 'PERSON', 0.44433415117355163), (xrange(605, 606), 'MISC', 0.5681937941790309), (xrange(648, 649), 'PERSON', 0.742115785186137), (xrange(721, 722), 'PERSON', 0.7663941918933724), (xrange(739, 741), 'LOCATION', 1.1430551088429888), (xrange(797, 798), 'PERSON', 0.8375317942239013), (xrange(815, 817), 'LOCATION', 0.7187748804030966), (xrange(850, 852), 'LOCATION', 0.47998643524780726), (xrange(955, 956), 'ORGANIZATION', 0.5303335577119954), (xrange(957, 958), 'ORGANIZATION', 0.8909119580336506), (xrange(960, 961), 'ORGANIZATION', 0.32009088109901385), (xrange(962, 963), 'ORGANIZATION', 1.143536263446504), (xrange(981, 982), 'ORGANIZATION', 0.9987651898745633), (xrange(996, 997), 'ORGANIZATION', 0.9821601139484384), (xrange(1010, 1013), 'ORGANIZATION', 0.3231420073194817)]\n",
      "\n",
      "Number of entities detected: 39\n"
     ]
    }
   ],
   "source": [
    "entities = ner.extract_entities(tokens)\n",
    "print \"\\nEntities found:\", entities\n",
    "print \"\\nNumber of entities detected:\", len(entities)"
   ]
  },
  {
   "cell_type": "code",
   "execution_count": 23,
   "metadata": {
    "collapsed": false
   },
   "outputs": [
    {
     "name": "stdout",
     "output_type": "stream",
     "text": [
      "   Score: 1.337: ORGANIZATION: Departamento de Salud\n",
      "   Score: 0.949: PERSON: Chloe Villano\n",
      "   Score: 0.505: MISC: públicas\n",
      "   Score: 1.083: ORGANIZATION: Departamento de Salud\n",
      "   Score: 0.866: PERSON: Chloe Villano\n",
      "   Score: 0.318: PERSON: Clover Leaf Consulting\n",
      "   Score: 0.556: PERSON: Villano\n",
      "   Score: 0.459: PERSON: Villano\n",
      "   Score: 0.859: LOCATION: Puerto Rico\n",
      "   Score: 0.266: LOCATION: NotiCel\n",
      "   Score: 0.450: LOCATION: Puerto Rico\n",
      "   Score: 0.183: ORGANIZATION: haya\n",
      "   Score: 0.977: ORGANIZATION: Estados Unidos\n",
      "   Score: 0.602: PERSON: Villano\n",
      "   Score: 0.575: LOCATION: Caribe\n",
      "   Score: 1.015: LOCATION: Colorado\n",
      "   Score: 1.533: ORGANIZATION: Gobierno\n",
      "   Score: 1.112: ORGANIZATION: Departamento de Salud\n",
      "   Score: 1.264: ORGANIZATION: Departamento de Salud\n",
      "   Score: 0.689: PERSON: Sherman\n",
      "   Score: 1.087: MISC: Ley de Sustancias Controladas\n",
      "   Score: 0.333: LOCATION: . Además\n",
      "   Score: 1.527: ORGANIZATION: Gobierno\n",
      "   Score: 0.612: LOCATION: Puerto Rico\n",
      "   Score: 0.444: PERSON: Villano exhortó\n",
      "   Score: 0.568: MISC: Reglamento\n",
      "   Score: 0.742: PERSON: Villano\n",
      "   Score: 0.766: PERSON: Villano\n",
      "   Score: 1.143: LOCATION: Puerto Rico\n",
      "   Score: 0.838: PERSON: Villano\n",
      "   Score: 0.719: LOCATION: Puerto Rico\n",
      "   Score: 0.480: LOCATION: Puerto Rico\n",
      "   Score: 0.530: ORGANIZATION: cannabidiol\n",
      "   Score: 0.891: ORGANIZATION: CBD\n",
      "   Score: 0.320: ORGANIZATION: cannabiniol\n",
      "   Score: 1.144: ORGANIZATION: CBN\n",
      "   Score: 0.999: ORGANIZATION: CBD\n",
      "   Score: 0.982: ORGANIZATION: CBN\n",
      "   Score: 0.323: ORGANIZATION: Clover Leaf University\n"
     ]
    }
   ],
   "source": [
    "# entities is a list of tuples, each containing an xrange that indicates which\n",
    "# tokens are part of the entity, the entity tag, and an associate score.  The\n",
    "# entities are also listed in the order they appear in the input text file.\n",
    "# Here we just print the score, tag, and text for each entity to the screen.\n",
    "# The larger the score the more confident MITIE is in its prediction.\n",
    "for e in entities:\n",
    "    range = e[0]\n",
    "    tag = e[1]\n",
    "    score = e[2]\n",
    "    score_text = \"{:0.3f}\".format(score)\n",
    "    entity_text = \" \".join(tokens[i] for i in range)\n",
    "    print \"   Score: \" + score_text + \": \" + tag + \": \" + entity_text"
   ]
  },
  {
   "cell_type": "code",
   "execution_count": null,
   "metadata": {
    "collapsed": true
   },
   "outputs": [],
   "source": []
  }
 ],
 "metadata": {
  "kernelspec": {
   "display_name": "Python 2",
   "language": "python",
   "name": "python2"
  },
  "language_info": {
   "codemirror_mode": {
    "name": "ipython",
    "version": 2
   },
   "file_extension": ".py",
   "mimetype": "text/x-python",
   "name": "python",
   "nbconvert_exporter": "python",
   "pygments_lexer": "ipython2",
   "version": "2.7.6"
  }
 },
 "nbformat": 4,
 "nbformat_minor": 0
}
